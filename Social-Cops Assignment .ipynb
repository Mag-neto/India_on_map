{
 "cells": [
  {
   "cell_type": "markdown",
   "metadata": {},
   "source": [
    "## Problem 1 Statement  :\n",
    "\n",
    "Avinash from the Partnerships Team at SocialCops needs to generate unique IDs for our auditors. These auditors are about to collect data in the field using SocialCops' data collection tool Collect (https://socialcops.com/collect) in 1071 villages across 20 blocks and two districts in the state of Uttar Pradesh in India. \n",
    "\n",
    "Avinash approaches you with an Excel file, which has a list of villages and the number of auditors required for each block, then asks you to create unique IDs for each block. If, for example, there are three villages in a block and six auditors are required, then you need to create 18 unique IDs for the block. \n",
    "\n",
    "Attached is the Excel file **<< Q1_Avinash_Village_Data.xlsx>>**. One example is given for the pattern in IDs. \n",
    "\n",
    "Can you generate unique IDs for each block in a similar fashion? Send across a Word document explaining your assumptions, methodology, and results.\n",
    "\n",
    "Please be sure to include the steps and time taken to complete this exercise. You may be required to replicate this for other blocks if you come to our office. \n"
   ]
  },
  {
   "cell_type": "markdown",
   "metadata": {},
   "source": [
    "### First Step:\n",
    "Choosing Eniveroment : I will preffer Python and it's Surrounding library."
   ]
  },
  {
   "cell_type": "markdown",
   "metadata": {},
   "source": [
    "## Import your module:\n",
    "Now Import your Python library to deal with the data. Here I will use Python's Pandas and Numpy Module to manipulate data."
   ]
  },
  {
   "cell_type": "code",
   "execution_count": 1,
   "metadata": {
    "collapsed": true
   },
   "outputs": [],
   "source": [
    "\n",
    "import pandas as pd\n",
    "import numpy as np\n"
   ]
  },
  {
   "cell_type": "markdown",
   "metadata": {},
   "source": [
    "## Load your Data:\n",
    "\n",
    "Library has been imported. Now it's time to load the data. The file name is 'Q1_Avinash_Village_Data' and it is a excel file.\n",
    "\n",
    "Using Pandas, excel files can be read using <b> pandas.read_excel() </b> function. \n",
    "\n",
    "Take a look:"
   ]
  },
  {
   "cell_type": "code",
   "execution_count": 2,
   "metadata": {
    "collapsed": true
   },
   "outputs": [],
   "source": [
    "#let's name the variable village_data\n",
    "village_data= pd.read_excel(r'E:\\python\\data\\Q1_Avinash_Village_Data.xlsx')"
   ]
  },
  {
   "cell_type": "markdown",
   "metadata": {},
   "source": [
    "Now let's have a look on our data what it's look like. The <b>file data is loaded into a dataframe</b> name (village_data\").\n",
    "\n",
    "This can be done using pandas dataframe.head() function which shows first 5 row of the dataframe."
   ]
  },
  {
   "cell_type": "code",
   "execution_count": 22,
   "metadata": {
    "collapsed": false
   },
   "outputs": [
    {
     "data": {
      "text/html": [
       "<div>\n",
       "<table border=\"1\" class=\"dataframe\">\n",
       "  <thead>\n",
       "    <tr style=\"text-align: right;\">\n",
       "      <th></th>\n",
       "      <th>Block Name</th>\n",
       "      <th>No. of auditors required in the Block</th>\n",
       "      <th>No. of Villages</th>\n",
       "      <th>No.of Ids required</th>\n",
       "      <th>Unnamed: 4</th>\n",
       "      <th>Unnamed: 5</th>\n",
       "      <th>Unnamed: 6</th>\n",
       "      <th>Example</th>\n",
       "      <th>Unnamed: 8</th>\n",
       "      <th>Unnamed: 9</th>\n",
       "      <th>Unnamed: 10</th>\n",
       "    </tr>\n",
       "  </thead>\n",
       "  <tbody>\n",
       "    <tr>\n",
       "      <th>0</th>\n",
       "      <td>Badlapur</td>\n",
       "      <td>6</td>\n",
       "      <td>3</td>\n",
       "      <td>18</td>\n",
       "      <td>NaN</td>\n",
       "      <td>NaN</td>\n",
       "      <td>NaN</td>\n",
       "      <td>District</td>\n",
       "      <td>Block</td>\n",
       "      <td>Village</td>\n",
       "      <td>id</td>\n",
       "    </tr>\n",
       "    <tr>\n",
       "      <th>1</th>\n",
       "      <td>Barsathi</td>\n",
       "      <td>7</td>\n",
       "      <td>6</td>\n",
       "      <td>42</td>\n",
       "      <td>NaN</td>\n",
       "      <td>NaN</td>\n",
       "      <td>NaN</td>\n",
       "      <td>Jaunpur</td>\n",
       "      <td>Badlapur</td>\n",
       "      <td>Ahopur</td>\n",
       "      <td>Badlapur1_1</td>\n",
       "    </tr>\n",
       "    <tr>\n",
       "      <th>2</th>\n",
       "      <td>Bhitargaon</td>\n",
       "      <td>15</td>\n",
       "      <td>30</td>\n",
       "      <td>450</td>\n",
       "      <td>NaN</td>\n",
       "      <td>NaN</td>\n",
       "      <td>NaN</td>\n",
       "      <td>Jaunpur</td>\n",
       "      <td>Badlapur</td>\n",
       "      <td>Kumar Patti</td>\n",
       "      <td>Badlapur1_2</td>\n",
       "    </tr>\n",
       "    <tr>\n",
       "      <th>3</th>\n",
       "      <td>Bilhaur</td>\n",
       "      <td>26</td>\n",
       "      <td>63</td>\n",
       "      <td>1638</td>\n",
       "      <td>NaN</td>\n",
       "      <td>NaN</td>\n",
       "      <td>NaN</td>\n",
       "      <td>Jaunpur</td>\n",
       "      <td>Badlapur</td>\n",
       "      <td>Kewatli Kalan</td>\n",
       "      <td>Badlapur1_3</td>\n",
       "    </tr>\n",
       "    <tr>\n",
       "      <th>4</th>\n",
       "      <td>Chaubepur</td>\n",
       "      <td>20</td>\n",
       "      <td>45</td>\n",
       "      <td>900</td>\n",
       "      <td>NaN</td>\n",
       "      <td>NaN</td>\n",
       "      <td>NaN</td>\n",
       "      <td>Jaunpur</td>\n",
       "      <td>Badlapur</td>\n",
       "      <td>Ahopur</td>\n",
       "      <td>Badlapur2_1</td>\n",
       "    </tr>\n",
       "  </tbody>\n",
       "</table>\n",
       "</div>"
      ],
      "text/plain": [
       "   Block Name  No. of auditors required in the Block  No. of Villages  \\\n",
       "0    Badlapur                                      6                3   \n",
       "1    Barsathi                                      7                6   \n",
       "2  Bhitargaon                                     15               30   \n",
       "3     Bilhaur                                     26               63   \n",
       "4   Chaubepur                                     20               45   \n",
       "\n",
       "   No.of Ids required  Unnamed: 4  Unnamed: 5  Unnamed: 6   Example  \\\n",
       "0                  18         NaN         NaN         NaN  District   \n",
       "1                  42         NaN         NaN         NaN   Jaunpur   \n",
       "2                 450         NaN         NaN         NaN   Jaunpur   \n",
       "3                1638         NaN         NaN         NaN   Jaunpur   \n",
       "4                 900         NaN         NaN         NaN   Jaunpur   \n",
       "\n",
       "  Unnamed: 8     Unnamed: 9  Unnamed: 10  \n",
       "0      Block        Village           id  \n",
       "1   Badlapur         Ahopur  Badlapur1_1  \n",
       "2   Badlapur    Kumar Patti  Badlapur1_2  \n",
       "3   Badlapur  Kewatli Kalan  Badlapur1_3  \n",
       "4   Badlapur         Ahopur  Badlapur2_1  "
      ]
     },
     "execution_count": 22,
     "metadata": {},
     "output_type": "execute_result"
    }
   ],
   "source": [
    "village_data.head()"
   ]
  },
  {
   "cell_type": "markdown",
   "metadata": {},
   "source": [
    "Here I have Block Name, No. of auditors required in the block, No. of Villages[in each block], No. of Ids required [in each block] and example for unique id created.There are 20 row in the given data. \n",
    "\n",
    "Now Let's <b> define our function </b> to generate the unique id."
   ]
  },
  {
   "cell_type": "code",
   "execution_count": 4,
   "metadata": {
    "collapsed": true
   },
   "outputs": [],
   "source": [
    "\n",
    "def unique_id_generator(block_name, auditors, village_number):\n",
    "    # our function take three arugement as input block_name(string), auditors(numbers) required for that block, \n",
    "    #village_number(number) in that block.\n",
    "    \n",
    "    #create a empty array\n",
    "    unique_id=[]\n",
    "    \n",
    "    for i in range(1,auditors+1):\n",
    "        # loop through the number auditors number\n",
    "        \n",
    "        for j in range(1,village_number+1): #loop through the village number\n",
    "            \n",
    "            #append the unique id to early created array\n",
    "            unique_id.append(block_name+str(i)+'_'+str(j))\n",
    "            \n",
    "\n",
    "    #now return the unique_id array which contains the ids created.\n",
    "    return unique_id\n"
   ]
  },
  {
   "cell_type": "markdown",
   "metadata": {},
   "source": [
    "We have defined our function that will return unique ids if block name, no of auditors and village name is given(correctly).\n",
    "\n",
    "First Let's <b> test our function</b> that it will work or not."
   ]
  },
  {
   "cell_type": "code",
   "execution_count": 12,
   "metadata": {
    "collapsed": false
   },
   "outputs": [
    {
     "name": "stdout",
     "output_type": "stream",
     "text": [
      "18\n",
      "['Badalapur1_1', 'Badalapur1_2', 'Badalapur1_3', 'Badalapur2_1', 'Badalapur2_2', 'Badalapur2_3', 'Badalapur3_1', 'Badalapur3_2', 'Badalapur3_3', 'Badalapur4_1', 'Badalapur4_2', 'Badalapur4_3', 'Badalapur5_1', 'Badalapur5_2', 'Badalapur5_3', 'Badalapur6_1', 'Badalapur6_2', 'Badalapur6_3']\n"
     ]
    }
   ],
   "source": [
    "# Calling our function with approprite input \n",
    "#and returned output is collected with new variable \"test_unique_ids\"\n",
    "# Give a block name \"Badlapur\" and 6, 3 as auditors required and no of village respectively.\n",
    "\n",
    "test_unique_ids= unique_id_generator('Badalapur',6,3)\n",
    "# We would expect that their should be 18 unique id generated using our function.\n",
    "\n",
    "#Now let's print our new variable and check what we got using funciton unique_id_generator()\n",
    "\n",
    "print len(test_unique_ids)\n",
    "print test_unique_ids"
   ]
  },
  {
   "cell_type": "markdown",
   "metadata": {},
   "source": [
    "It's look like we got what we expected.We have eighteen unique ids.\n",
    "\n",
    "So what's next? <br>\n",
    "Now We have our data and working function. It's time to feed appropriate input from our data (village_data) to our function (unique_id_generator). Let's Check-"
   ]
  },
  {
   "cell_type": "code",
   "execution_count": 20,
   "metadata": {
    "collapsed": false
   },
   "outputs": [],
   "source": [
    "#Get all the values of a column using df['column_name'].values . Output will be a numpy array.\n",
    "\n",
    "block_names= village_data['Block Name'].values  #All block name in a array\n",
    "\n",
    "auditors_required= village_data['No. of auditors required in the Block'].values # No of auditor required per block\n",
    "\n",
    "no_of_village= village_data['No. of Villages'].values # no of village per block\n",
    "\n",
    "\n",
    "#Now create an empty pandas data frame \n",
    "    \n",
    "unique_ids_dataframe= pd.DataFrame(columns=['Block Name','Ids'])\n",
    "\n",
    "\n",
    "#Now loop through the block_names, auditors_required, and no_of_village one by one and these will be used as input to \n",
    "#function (unique_id_generator) and output is stored into another variable.\n",
    "\n",
    "for k in range(len(block_names)):\n",
    "    #calling our function with appropriate input\n",
    "    unique_id= unique_id_generator(block_names[k],auditors_required[k],no_of_village[k])\n",
    "     \n",
    "    #Define block name for dataframe purpose\n",
    "    block=np.array(block_names[k])\n",
    "    \n",
    "    #Create a new empty dataframe with column name 'Block Name' and 'Ids'.\n",
    "    df= pd.DataFrame(columns=['Block Name','Ids'])\n",
    "    \n",
    "    # Now set value of Column 'Block Name' equal to block name. \n",
    "    \n",
    "    #Here I have used numpy's repeat() function to repeat the block name.\n",
    "    #This is done to have the same length of both coulmns.\n",
    "    df['Block Name']= block.repeat(len(unique_id)) \n",
    "    \n",
    "    #Setting value of Columns 'Ids' equal to unique_id.\n",
    "    df['Ids']= unique_id\n",
    "    \n",
    "    #Now append this data-frame (df) to our early created data frame unique_ids_dataframe. \n",
    "    unique_ids_dataframe= unique_ids_dataframe.append(df, ignore_index=True)\n",
    "    #here we have used ignore_index=True, If we don't use this, A new index will be created in\n",
    "    #unique_ids_dataframe everytime we append a dataframe .\n",
    "    \n",
    "\n",
    "#This loop run for 20 time and every time generated new ids are appended into dataframe(unique_ids_dataframe).\n",
    "# so at last we have unique ids for every block."
   ]
  },
  {
   "cell_type": "markdown",
   "metadata": {},
   "source": [
    "Now let's check our output. Here our output is <b> unique_ids_dataframe</b> which is a pandas dataframe. <br>\n",
    "SO first Check the first five row of dataframe using <b> dataframe.head()</b> ."
   ]
  },
  {
   "cell_type": "code",
   "execution_count": 8,
   "metadata": {
    "collapsed": false
   },
   "outputs": [
    {
     "data": {
      "text/html": [
       "<div>\n",
       "<table border=\"1\" class=\"dataframe\">\n",
       "  <thead>\n",
       "    <tr style=\"text-align: right;\">\n",
       "      <th></th>\n",
       "      <th>Block Name</th>\n",
       "      <th>Ids</th>\n",
       "    </tr>\n",
       "  </thead>\n",
       "  <tbody>\n",
       "    <tr>\n",
       "      <th>0</th>\n",
       "      <td>Badlapur</td>\n",
       "      <td>Badlapur1_1</td>\n",
       "    </tr>\n",
       "    <tr>\n",
       "      <th>1</th>\n",
       "      <td>Badlapur</td>\n",
       "      <td>Badlapur1_2</td>\n",
       "    </tr>\n",
       "    <tr>\n",
       "      <th>2</th>\n",
       "      <td>Badlapur</td>\n",
       "      <td>Badlapur1_3</td>\n",
       "    </tr>\n",
       "    <tr>\n",
       "      <th>3</th>\n",
       "      <td>Badlapur</td>\n",
       "      <td>Badlapur2_1</td>\n",
       "    </tr>\n",
       "    <tr>\n",
       "      <th>4</th>\n",
       "      <td>Badlapur</td>\n",
       "      <td>Badlapur2_2</td>\n",
       "    </tr>\n",
       "  </tbody>\n",
       "</table>\n",
       "</div>"
      ],
      "text/plain": [
       "  Block Name          Ids\n",
       "0   Badlapur  Badlapur1_1\n",
       "1   Badlapur  Badlapur1_2\n",
       "2   Badlapur  Badlapur1_3\n",
       "3   Badlapur  Badlapur2_1\n",
       "4   Badlapur  Badlapur2_2"
      ]
     },
     "execution_count": 8,
     "metadata": {},
     "output_type": "execute_result"
    }
   ],
   "source": [
    "unique_ids_dataframe.head()"
   ]
  },
  {
   "cell_type": "markdown",
   "metadata": {},
   "source": [
    "Looks like we got everything right. Now take a look a last few raw by using <b>dataframe.tail()</b>."
   ]
  },
  {
   "cell_type": "code",
   "execution_count": 9,
   "metadata": {
    "collapsed": false
   },
   "outputs": [
    {
     "data": {
      "text/html": [
       "<div>\n",
       "<table border=\"1\" class=\"dataframe\">\n",
       "  <thead>\n",
       "    <tr style=\"text-align: right;\">\n",
       "      <th></th>\n",
       "      <th>Block Name</th>\n",
       "      <th>Ids</th>\n",
       "    </tr>\n",
       "  </thead>\n",
       "  <tbody>\n",
       "    <tr>\n",
       "      <th>44989</th>\n",
       "      <td>SUITHAKALA</td>\n",
       "      <td>SUITHAKALA12_17</td>\n",
       "    </tr>\n",
       "    <tr>\n",
       "      <th>44990</th>\n",
       "      <td>SUITHAKALA</td>\n",
       "      <td>SUITHAKALA12_18</td>\n",
       "    </tr>\n",
       "    <tr>\n",
       "      <th>44991</th>\n",
       "      <td>SUITHAKALA</td>\n",
       "      <td>SUITHAKALA12_19</td>\n",
       "    </tr>\n",
       "    <tr>\n",
       "      <th>44992</th>\n",
       "      <td>SUITHAKALA</td>\n",
       "      <td>SUITHAKALA12_20</td>\n",
       "    </tr>\n",
       "    <tr>\n",
       "      <th>44993</th>\n",
       "      <td>SUITHAKALA</td>\n",
       "      <td>SUITHAKALA12_21</td>\n",
       "    </tr>\n",
       "  </tbody>\n",
       "</table>\n",
       "</div>"
      ],
      "text/plain": [
       "       Block Name              Ids\n",
       "44989  SUITHAKALA  SUITHAKALA12_17\n",
       "44990  SUITHAKALA  SUITHAKALA12_18\n",
       "44991  SUITHAKALA  SUITHAKALA12_19\n",
       "44992  SUITHAKALA  SUITHAKALA12_20\n",
       "44993  SUITHAKALA  SUITHAKALA12_21"
      ]
     },
     "execution_count": 9,
     "metadata": {},
     "output_type": "execute_result"
    }
   ],
   "source": [
    "unique_ids_dataframe.tail()"
   ]
  },
  {
   "cell_type": "markdown",
   "metadata": {},
   "source": [
    "Here we can say that the above dataframe have 449934 row. It means we have 449934 unique ids."
   ]
  },
  {
   "cell_type": "markdown",
   "metadata": {
    "collapsed": true
   },
   "source": [
    "Now we have a dataframe that contains block name and corresponding unique Ids. This can be exported to a csv file, excel file,html or anything else. <b> Choice is dependant.</b>\n",
    "\n",
    "Here I will export this dataframe to a excel file."
   ]
  },
  {
   "cell_type": "code",
   "execution_count": 21,
   "metadata": {
    "collapsed": false
   },
   "outputs": [],
   "source": [
    "unique_ids_dataframe.to_excel(r'E:\\python\\data\\unique_ids.xlsx')"
   ]
  },
  {
   "cell_type": "markdown",
   "metadata": {},
   "source": [
    "\n"
   ]
  },
  {
   "cell_type": "markdown",
   "metadata": {
    "collapsed": true
   },
   "source": [
    "SO final output in a excel file(unique_ids.xlsx).\n"
   ]
  }
 ],
 "metadata": {
  "kernelspec": {
   "display_name": "Python 2",
   "language": "python",
   "name": "python2"
  },
  "language_info": {
   "codemirror_mode": {
    "name": "ipython",
    "version": 2
   },
   "file_extension": ".py",
   "mimetype": "text/x-python",
   "name": "python",
   "nbconvert_exporter": "python",
   "pygments_lexer": "ipython2",
   "version": "2.7.12"
  }
 },
 "nbformat": 4,
 "nbformat_minor": 1
}
